{
 "cells": [
  {
   "cell_type": "markdown",
   "id": "ff704263",
   "metadata": {
    "slideshow": {
     "slide_type": "slide"
    }
   },
   "source": [
    "# STA 141B Data & Web Technologies for Data Analysis\n",
    "\n",
    "### Lecture 3, 10/5/23, Memory handling\n"
   ]
  },
  {
   "cell_type": "markdown",
   "id": "d720fbd5",
   "metadata": {
    "slideshow": {
     "slide_type": "slide"
    }
   },
   "source": [
    "### Announcements\n",
    "\n",
    " - First HW due in one week! "
   ]
  },
  {
   "cell_type": "markdown",
   "id": "522ed175",
   "metadata": {
    "slideshow": {
     "slide_type": "slide"
    }
   },
   "source": [
    "### Today's topics\n",
    "\n",
    " - Basics of Python (cont.')\n",
    " - Memory Handling in Python\n",
    "     - Stack and Heap\n",
    "     - Types\n",
    "     - Reference Semantics\n",
    "     - Interning"
   ]
  },
  {
   "cell_type": "markdown",
   "id": "df2973ff",
   "metadata": {
    "slideshow": {
     "slide_type": "slide"
    }
   },
   "source": [
    "#### 3. Comprehensions and generators\n",
    "\n",
    "A comprehension is a Python expression that transforms a sequence, element-by-element."
   ]
  },
  {
   "cell_type": "code",
   "execution_count": 165,
   "id": "616bea00",
   "metadata": {},
   "outputs": [
    {
     "data": {
      "text/plain": [
       "[0, 1, 4, 9, 16]"
      ]
     },
     "execution_count": 165,
     "metadata": {},
     "output_type": "execute_result"
    }
   ],
   "source": [
    "[x**2 for x in range(5)]"
   ]
  },
  {
   "cell_type": "code",
   "execution_count": null,
   "id": "d99ac932",
   "metadata": {},
   "outputs": [],
   "source": [
    "x = [4, 3, 1]"
   ]
  },
  {
   "cell_type": "code",
   "execution_count": 2,
   "id": "b3725c28",
   "metadata": {},
   "outputs": [
    {
     "ename": "TypeError",
     "evalue": "can only concatenate list (not \"int\") to list",
     "output_type": "error",
     "traceback": [
      "\u001b[0;31m---------------------------------------------------------------------------\u001b[0m",
      "\u001b[0;31mTypeError\u001b[0m                                 Traceback (most recent call last)",
      "\u001b[0;32m/var/folders/fh/hvkm2z9n7631q5058px_kqg80000gr/T/ipykernel_2701/4108659451.py\u001b[0m in \u001b[0;36m<module>\u001b[0;34m\u001b[0m\n\u001b[0;32m----> 1\u001b[0;31m \u001b[0mx\u001b[0m \u001b[0;34m+\u001b[0m \u001b[0;36m3\u001b[0m\u001b[0;34m\u001b[0m\u001b[0;34m\u001b[0m\u001b[0m\n\u001b[0m",
      "\u001b[0;31mTypeError\u001b[0m: can only concatenate list (not \"int\") to list"
     ]
    }
   ],
   "source": [
    "x + 3"
   ]
  },
  {
   "cell_type": "code",
   "execution_count": 3,
   "id": "e00c38e5",
   "metadata": {},
   "outputs": [
    {
     "data": {
      "text/plain": [
       "[16, 15, 13]"
      ]
     },
     "execution_count": 3,
     "metadata": {},
     "output_type": "execute_result"
    }
   ],
   "source": [
    "[y + 12 for y in x]"
   ]
  },
  {
   "cell_type": "markdown",
   "id": "a543caf9",
   "metadata": {
    "slideshow": {
     "slide_type": "slide"
    }
   },
   "source": [
    "Think of this as Pythons `lapply`. You can include a condition in a comprehension:"
   ]
  },
  {
   "cell_type": "code",
   "execution_count": 172,
   "id": "5eb6934a",
   "metadata": {},
   "outputs": [
    {
     "data": {
      "text/plain": [
       "[0, 4, 16, 36, 64, 100]"
      ]
     },
     "execution_count": 172,
     "metadata": {},
     "output_type": "execute_result"
    }
   ],
   "source": [
    "y = [x**2 for x in range(11) if x % 2 == 0]\n",
    "y "
   ]
  },
  {
   "cell_type": "markdown",
   "id": "7209c9af",
   "metadata": {
    "slideshow": {
     "slide_type": "slide"
    }
   },
   "source": [
    "You can also iterate over subelements."
   ]
  },
  {
   "cell_type": "code",
   "execution_count": 4,
   "id": "002c9361",
   "metadata": {},
   "outputs": [],
   "source": [
    "x = [[1, 2, 3], [4, 5, 6]] # print 1, 2, 3, 4, 5, 6"
   ]
  },
  {
   "cell_type": "code",
   "execution_count": 7,
   "id": "b8c42aca",
   "metadata": {},
   "outputs": [
    {
     "name": "stdout",
     "output_type": "stream",
     "text": [
      "1\n",
      "2\n",
      "3\n",
      "4\n",
      "5\n",
      "6\n"
     ]
    }
   ],
   "source": [
    "# somewhat clumsy\n",
    "for sublist in x:\n",
    "    for y in sublist:\n",
    "        print(y)"
   ]
  },
  {
   "cell_type": "code",
   "execution_count": null,
   "id": "7b6d2595",
   "metadata": {},
   "outputs": [],
   "source": []
  },
  {
   "cell_type": "code",
   "execution_count": 8,
   "id": "9691eb20",
   "metadata": {},
   "outputs": [
    {
     "data": {
      "text/plain": [
       "[1, 2, 3, 4, 5, 6]"
      ]
     },
     "execution_count": 8,
     "metadata": {},
     "output_type": "execute_result"
    }
   ],
   "source": [
    "[y for sublist in x for y in sublist]"
   ]
  },
  {
   "cell_type": "markdown",
   "id": "dc81f2bb",
   "metadata": {
    "slideshow": {
     "slide_type": "-"
    }
   },
   "source": [
    "Be aware that `sublist in x` is the top loop and subloops are right thereof. In other words, the outermost iterables always come first in the comprehension."
   ]
  },
  {
   "cell_type": "markdown",
   "id": "92b3dfb2",
   "metadata": {
    "slideshow": {
     "slide_type": "slide"
    }
   },
   "source": [
    "A comprehension surrounded by `[ ]` is called a list comprehension and produces a <kbd>list</kbd>. A comprehension surrounded by `{ }` and including `:` is called a dictionary comprehension and produces a <kbd>dict</kbd>. Else it is called set comprehension. "
   ]
  },
  {
   "cell_type": "code",
   "execution_count": 14,
   "id": "d1a9738f",
   "metadata": {},
   "outputs": [
    {
     "data": {
      "text/plain": [
       "{5: ('hello',), 7: ('goodbye',)}"
      ]
     },
     "execution_count": 14,
     "metadata": {},
     "output_type": "execute_result"
    }
   ],
   "source": [
    "x = [\"hello\", \"goodbye\"]\n",
    "\n",
    "lens = {len(name): (name,) for name in x} # print the length of names\n",
    "lens"
   ]
  },
  {
   "cell_type": "markdown",
   "id": "85e2df2e",
   "metadata": {
    "slideshow": {
     "slide_type": "slide"
    }
   },
   "source": [
    "Remember that <kbd>dict</kbd> does not support equal keys and <kbd>set</kbd> does not support equal items, but <kbd>list</kbd> does. "
   ]
  },
  {
   "cell_type": "code",
   "execution_count": 15,
   "id": "82014cf5",
   "metadata": {},
   "outputs": [
    {
     "data": {
      "text/plain": [
       "{0, 1}"
      ]
     },
     "execution_count": 15,
     "metadata": {},
     "output_type": "execute_result"
    }
   ],
   "source": [
    "{x**2 for x in [-1, 0, 1]} # set # uniqueness of sets is checked with ==, not is"
   ]
  },
  {
   "cell_type": "markdown",
   "id": "bfe9988c",
   "metadata": {
    "slideshow": {
     "slide_type": "slide"
    }
   },
   "source": [
    "There's no such thing as a tuple comprehension. Instead, a comprehension surrounded by `( )` is called a generator expression."
   ]
  },
  {
   "cell_type": "code",
   "execution_count": 16,
   "id": "b9d17fcf",
   "metadata": {},
   "outputs": [
    {
     "data": {
      "text/plain": [
       "generator"
      ]
     },
     "execution_count": 16,
     "metadata": {},
     "output_type": "execute_result"
    }
   ],
   "source": [
    "y = (x**2 for x in range(1001) if x % 2 == 0)\n",
    "type(y)"
   ]
  },
  {
   "cell_type": "code",
   "execution_count": 17,
   "id": "fe8aa5c0",
   "metadata": {},
   "outputs": [
    {
     "data": {
      "text/plain": [
       "112"
      ]
     },
     "execution_count": 17,
     "metadata": {},
     "output_type": "execute_result"
    }
   ],
   "source": [
    "import sys\n",
    "sys.getsizeof(y)"
   ]
  },
  {
   "cell_type": "code",
   "execution_count": 18,
   "id": "257069fe",
   "metadata": {},
   "outputs": [
    {
     "data": {
      "text/plain": [
       "4216"
      ]
     },
     "execution_count": 18,
     "metadata": {},
     "output_type": "execute_result"
    }
   ],
   "source": [
    "sys.getsizeof([x**2 for x in range(1001) if x % 2 == 0]) # produces a list, i.e., is evaluated"
   ]
  },
  {
   "cell_type": "markdown",
   "id": "5fea0960",
   "metadata": {
    "slideshow": {
     "slide_type": "slide"
    }
   },
   "source": [
    "Operating on a generator forces its evaluation. "
   ]
  },
  {
   "cell_type": "code",
   "execution_count": 19,
   "id": "3af194d2",
   "metadata": {},
   "outputs": [
    {
     "data": {
      "text/plain": [
       "167167000"
      ]
     },
     "execution_count": 19,
     "metadata": {},
     "output_type": "execute_result"
    }
   ],
   "source": [
    "sum(y) "
   ]
  },
  {
   "cell_type": "markdown",
   "id": "1b73144f",
   "metadata": {
    "slideshow": {
     "slide_type": "slide"
    }
   },
   "source": [
    "This code does not produce any sensible result, because *a generator can only be used once*. Once iterated through, it is exhausted. Since this saves memory it is *much* more efficient than <kbd>list</kbd>."
   ]
  },
  {
   "cell_type": "code",
   "execution_count": 20,
   "id": "fb85c2c5",
   "metadata": {
    "slideshow": {
     "slide_type": "-"
    }
   },
   "outputs": [],
   "source": [
    "for i in y:\n",
    "    print(i, end=\" \")"
   ]
  },
  {
   "cell_type": "code",
   "execution_count": 24,
   "id": "be018018",
   "metadata": {},
   "outputs": [],
   "source": [
    "y = (x**2 for x in range(101) if x % 2 == 0)"
   ]
  },
  {
   "cell_type": "code",
   "execution_count": 25,
   "id": "aff1d46b",
   "metadata": {},
   "outputs": [
    {
     "name": "stdout",
     "output_type": "stream",
     "text": [
      "0 4 16 36 64 100 144 196 256 324 400 484 576 676 784 900 1024 1156 1296 1444 1600 1764 1936 2116 2304 2500 2704 2916 3136 3364 3600 3844 4096 4356 4624 4900 5184 5476 5776 6084 6400 6724 7056 7396 7744 8100 8464 8836 9216 9604 10000 "
     ]
    }
   ],
   "source": [
    "for i in y:\n",
    "    print(i, end=\" \")"
   ]
  },
  {
   "cell_type": "markdown",
   "id": "2f3828f6",
   "metadata": {
    "slideshow": {
     "slide_type": "slide"
    }
   },
   "source": [
    " The economics of memory show when we time operations. "
   ]
  },
  {
   "cell_type": "code",
   "execution_count": 26,
   "id": "48cbb2d6",
   "metadata": {},
   "outputs": [],
   "source": [
    "import timeit"
   ]
  },
  {
   "cell_type": "code",
   "execution_count": 27,
   "id": "76df9d15",
   "metadata": {},
   "outputs": [
    {
     "name": "stdout",
     "output_type": "stream",
     "text": [
      "4.750762458000054\n",
      "0.28591766700014887\n"
     ]
    }
   ],
   "source": [
    "print(timeit.timeit('''list_com = [i for i in range(100) if i % 2 == 0]''', number=1000000))\n",
    "print(timeit.timeit('''gen_exp = (i for i in range(100) if i % 2 == 0)''', number=1000000))"
   ]
  },
  {
   "cell_type": "markdown",
   "id": "f73ad4e5",
   "metadata": {
    "slideshow": {
     "slide_type": "slide"
    }
   },
   "source": [
    "A generator is a special kind of iterable which computes its elements on demand. Examples are ranges and generator expressions. \n",
    "Generators are especially useful for working with data that are __too large__ to fit in memory. While making a huge list (say $10^9$ elements) might use enough memory to crash Python, making a generator with the same number of elements uses almost no memory. See more examples [here](https://zacks.one/python-generators/). \n",
    "\n",
    "Python's `itertools` module has functions for manipulating generators and iterable objects"
   ]
  },
  {
   "cell_type": "markdown",
   "id": "45d3dec1",
   "metadata": {
    "slideshow": {
     "slide_type": "slide"
    }
   },
   "source": [
    "### Stack and Heap"
   ]
  },
  {
   "cell_type": "code",
   "execution_count": 28,
   "id": "c1155bb4",
   "metadata": {
    "slideshow": {
     "slide_type": "-"
    }
   },
   "outputs": [
    {
     "data": {
      "text/plain": [
       "bool"
      ]
     },
     "execution_count": 28,
     "metadata": {},
     "output_type": "execute_result"
    }
   ],
   "source": [
    "x = True\n",
    "type(x)"
   ]
  },
  {
   "cell_type": "markdown",
   "id": "168dcdf3",
   "metadata": {},
   "source": [
    "`x` is a variable, which corresponds to an <kbd>bool</kbd> object with value `True`. The variable itself holds merely a reference to a specific object. This reference is stored in local memory (the *stack*). Our compiler takes care in allocating stack memory, we don't have to do that. \n",
    "\n",
    "The <kbd>bool</kbd>-object and its value are stored on the random access memory (RAM, the *heap*). We can access the address of the object on the heap (and, conversely, the refrence on the stack): "
   ]
  },
  {
   "cell_type": "code",
   "execution_count": 30,
   "id": "3b7802d9",
   "metadata": {},
   "outputs": [
    {
     "data": {
      "text/plain": [
       "'0x100903530'"
      ]
     },
     "execution_count": 30,
     "metadata": {},
     "output_type": "execute_result"
    }
   ],
   "source": [
    "hex(id(x))"
   ]
  },
  {
   "cell_type": "code",
   "execution_count": 31,
   "id": "5e4ff36c",
   "metadata": {},
   "outputs": [
    {
     "data": {
      "text/plain": [
       "'0x7fa4389ed770'"
      ]
     },
     "execution_count": 31,
     "metadata": {},
     "output_type": "execute_result"
    }
   ],
   "source": [
    "y = float(x)\n",
    "hex(id(y))"
   ]
  },
  {
   "cell_type": "markdown",
   "id": "e0c86dc6",
   "metadata": {
    "slideshow": {
     "slide_type": "slide"
    }
   },
   "source": [
    "In Python, we can change the type of a variable."
   ]
  },
  {
   "cell_type": "code",
   "execution_count": 32,
   "id": "e8af07cd",
   "metadata": {},
   "outputs": [
    {
     "data": {
      "text/plain": [
       "'0x100903530'"
      ]
     },
     "execution_count": 32,
     "metadata": {},
     "output_type": "execute_result"
    }
   ],
   "source": [
    "hex(id(x))"
   ]
  },
  {
   "cell_type": "code",
   "execution_count": 33,
   "id": "abeef072",
   "metadata": {},
   "outputs": [
    {
     "data": {
      "text/plain": [
       "int"
      ]
     },
     "execution_count": 33,
     "metadata": {},
     "output_type": "execute_result"
    }
   ],
   "source": [
    "x = int(x)\n",
    "type(x)"
   ]
  },
  {
   "cell_type": "code",
   "execution_count": 34,
   "id": "16a0d9a0",
   "metadata": {},
   "outputs": [
    {
     "data": {
      "text/plain": [
       "'0x7fa43802e930'"
      ]
     },
     "execution_count": 34,
     "metadata": {},
     "output_type": "execute_result"
    }
   ],
   "source": [
    "hex(id(x))"
   ]
  },
  {
   "cell_type": "markdown",
   "id": "1f756ea0",
   "metadata": {
    "slideshow": {
     "slide_type": "slide"
    }
   },
   "source": [
    "<img src=\"../images/memory1.png\" alt=\"\" width=\"1000\"/>"
   ]
  },
  {
   "cell_type": "markdown",
   "id": "b33451dd",
   "metadata": {},
   "source": [
    "As soon as the `x`-variable, which previously referenced to the <kbd>bool</kbd> object is out of scope (either by deletion or recasting), the object on the heap is ready to be overwritten by the garbage collector. \n",
    "\n"
   ]
  },
  {
   "cell_type": "markdown",
   "id": "3c641a41",
   "metadata": {
    "slideshow": {
     "slide_type": "slide"
    }
   },
   "source": [
    "Let's work through the phrases: *Everything in Python is an object*. Some basic default objects (*types*) we have already met are \n",
    "\n",
    "- Numeric: <kbd>int</kbd>, <kbd>floats</kbd>, <kbd>complex</kbd>\n",
    "- Boolean: <kbd>bool</kbd>\n",
    "- String: <kbd>str</kbd>\n",
    "- Sequence: <kbd>list</kbd>, <kbd>tuple</kbd>, <kbd>range</kbd>\n",
    "- Mapping: <kbd>dict</kbd>\n",
    "\n",
    "The function `sys.getsizeof` ([docs](https://docs.python.org/3/library/sys.html?highlight=getsizeof#sys.getsizeof)) returns the size in bytes of the object the variable points to. "
   ]
  },
  {
   "cell_type": "code",
   "execution_count": 35,
   "id": "1c6ff0aa",
   "metadata": {},
   "outputs": [
    {
     "data": {
      "text/plain": [
       "28"
      ]
     },
     "execution_count": 35,
     "metadata": {},
     "output_type": "execute_result"
    }
   ],
   "source": [
    "import sys\n",
    "sys.getsizeof(x)"
   ]
  },
  {
   "cell_type": "code",
   "execution_count": 36,
   "id": "ce0d41c5",
   "metadata": {},
   "outputs": [
    {
     "data": {
      "text/plain": [
       "24"
      ]
     },
     "execution_count": 36,
     "metadata": {},
     "output_type": "execute_result"
    }
   ],
   "source": [
    "sys.getsizeof(y)"
   ]
  },
  {
   "cell_type": "markdown",
   "id": "b0e02e1e",
   "metadata": {
    "slideshow": {
     "slide_type": "slide"
    }
   },
   "source": [
    "A <kbd>float</kbd> is less expensive than an <kbd>integer</kbd>. This is because <kbd>integer</kbd> stores additional information about size together with the actual value. The larger the integer, the more memory required. "
   ]
  },
  {
   "cell_type": "code",
   "execution_count": 37,
   "id": "c2a27001",
   "metadata": {},
   "outputs": [
    {
     "data": {
      "text/plain": [
       "36"
      ]
     },
     "execution_count": 37,
     "metadata": {},
     "output_type": "execute_result"
    }
   ],
   "source": [
    "sys.getsizeof(100 ** 10)"
   ]
  },
  {
   "cell_type": "code",
   "execution_count": 38,
   "id": "b0d70e59",
   "metadata": {},
   "outputs": [
    {
     "data": {
      "text/plain": [
       "24"
      ]
     },
     "execution_count": 38,
     "metadata": {},
     "output_type": "execute_result"
    }
   ],
   "source": [
    "sys.getsizeof(100.0 ** 10)"
   ]
  },
  {
   "cell_type": "markdown",
   "id": "9c373a3d",
   "metadata": {
    "slideshow": {
     "slide_type": "slide"
    }
   },
   "source": [
    "However, <kbd>integer</kbd> can store larger values than <kbd>float</kbd>. "
   ]
  },
  {
   "cell_type": "code",
   "execution_count": 39,
   "id": "fbe6bb5f",
   "metadata": {},
   "outputs": [
    {
     "data": {
      "text/plain": [
       "int"
      ]
     },
     "execution_count": 39,
     "metadata": {},
     "output_type": "execute_result"
    }
   ],
   "source": [
    "x = 500 ** 500 \n",
    "type(x)"
   ]
  },
  {
   "cell_type": "code",
   "execution_count": 40,
   "id": "65f89f7a",
   "metadata": {},
   "outputs": [
    {
     "data": {
      "text/plain": [
       "305493636349960468205197939321361769978940274057232666389361390928129162652472045770185723510801522825687515269359046715531785342780428396973513311420091788963072442053377285222203558881953188370081650866793017948791366338993705251636497892270212003524508209121908744820211960149463721109340307985507678283651836204093399373959982767701148986816406250000000000000000000000000000000000000000000000000000000000000000000000000000000000000000000000000000000000000000000000000000000000000000000000000000000000000000000000000000000000000000000000000000000000000000000000000000000000000000000000000000000000000000000000000000000000000000000000000000000000000000000000000000000000000000000000000000000000000000000000000000000000000000000000000000000000000000000000000000000000000000000000000000000000000000000000000000000000000000000000000000000000000000000000000000000000000000000000000000000000000000000000000000000000000000000000000000000000000000000000000000000000000000000000000000000000000000000000000000000000000000000000000000000000000000000000000000000000000000000000000000000000000000000000000000000000000000000000000000000000000000000000000000000000000000000000000000000000000000000000000000000000000000000000000000000000000000000000000000000000000000000000000000000000000000000000000000000000000000000000000000000000000000000000000000000000000000"
      ]
     },
     "execution_count": 40,
     "metadata": {},
     "output_type": "execute_result"
    }
   ],
   "source": [
    "x"
   ]
  },
  {
   "cell_type": "code",
   "execution_count": 41,
   "id": "91820f76",
   "metadata": {},
   "outputs": [
    {
     "data": {
      "text/plain": [
       "624"
      ]
     },
     "execution_count": 41,
     "metadata": {},
     "output_type": "execute_result"
    }
   ],
   "source": [
    "sys.getsizeof(x)"
   ]
  },
  {
   "cell_type": "code",
   "execution_count": 42,
   "id": "8afb2844",
   "metadata": {
    "scrolled": true
   },
   "outputs": [
    {
     "ename": "OverflowError",
     "evalue": "int too large to convert to float",
     "output_type": "error",
     "traceback": [
      "\u001b[0;31m---------------------------------------------------------------------------\u001b[0m",
      "\u001b[0;31mOverflowError\u001b[0m                             Traceback (most recent call last)",
      "\u001b[0;32m/var/folders/fh/hvkm2z9n7631q5058px_kqg80000gr/T/ipykernel_2701/697041749.py\u001b[0m in \u001b[0;36m<module>\u001b[0;34m\u001b[0m\n\u001b[0;32m----> 1\u001b[0;31m \u001b[0mfloat\u001b[0m\u001b[0;34m(\u001b[0m\u001b[0mx\u001b[0m\u001b[0;34m)\u001b[0m\u001b[0;34m\u001b[0m\u001b[0;34m\u001b[0m\u001b[0m\n\u001b[0m",
      "\u001b[0;31mOverflowError\u001b[0m: int too large to convert to float"
     ]
    }
   ],
   "source": [
    "float(x)"
   ]
  },
  {
   "cell_type": "markdown",
   "id": "0d4ff389",
   "metadata": {
    "slideshow": {
     "slide_type": "slide"
    }
   },
   "source": [
    "The function `range(start, stop, step)` ([docs](https://docs.python.org/3/library/stdtypes.html#range)) creates a <kbd>range</kbd> type object. It starts at `start` and ends at `stop - 1`, but does not instantiate an object of that length. "
   ]
  },
  {
   "cell_type": "code",
   "execution_count": 43,
   "id": "2e4c49cb",
   "metadata": {},
   "outputs": [
    {
     "data": {
      "text/plain": [
       "48"
      ]
     },
     "execution_count": 43,
     "metadata": {},
     "output_type": "execute_result"
    }
   ],
   "source": [
    "x = range(0, 500**500)\n",
    "sys.getsizeof(x)"
   ]
  },
  {
   "cell_type": "code",
   "execution_count": 44,
   "id": "e40b58bd",
   "metadata": {
    "scrolled": false
   },
   "outputs": [
    {
     "data": {
      "text/plain": [
       "624"
      ]
     },
     "execution_count": 44,
     "metadata": {},
     "output_type": "execute_result"
    }
   ],
   "source": [
    "sys.getsizeof(500**500)"
   ]
  },
  {
   "cell_type": "markdown",
   "id": "03978048",
   "metadata": {
    "slideshow": {
     "slide_type": "slide"
    }
   },
   "source": [
    "A <kbd>tuple</kbd> is an ordered collection of values. Think of coordinates. <kbd>tuple</kbd> is immutable, which means they can't be changed after they're created."
   ]
  },
  {
   "cell_type": "code",
   "execution_count": 45,
   "id": "99a4affa",
   "metadata": {},
   "outputs": [
    {
     "data": {
      "text/plain": [
       "(1, 3.0, 'horse')"
      ]
     },
     "execution_count": 45,
     "metadata": {},
     "output_type": "execute_result"
    }
   ],
   "source": [
    "x = 1, 3.0, \"horse\" # parenthesis are optional, but should be used for clarity \n",
    "x"
   ]
  },
  {
   "cell_type": "code",
   "execution_count": 46,
   "id": "f4751e72",
   "metadata": {},
   "outputs": [
    {
     "data": {
      "text/plain": [
       "tuple"
      ]
     },
     "execution_count": 46,
     "metadata": {},
     "output_type": "execute_result"
    }
   ],
   "source": [
    "type(x)"
   ]
  },
  {
   "cell_type": "code",
   "execution_count": 47,
   "id": "f8b186cb",
   "metadata": {},
   "outputs": [
    {
     "data": {
      "text/plain": [
       "64"
      ]
     },
     "execution_count": 47,
     "metadata": {},
     "output_type": "execute_result"
    }
   ],
   "source": [
    "sys.getsizeof(x)"
   ]
  },
  {
   "cell_type": "markdown",
   "id": "f717e01c",
   "metadata": {
    "slideshow": {
     "slide_type": "slide"
    }
   },
   "source": [
    "A <kbd>tuple</kbd> is inmutable. We have learned that once created, it can't be changed!"
   ]
  },
  {
   "cell_type": "code",
   "execution_count": 48,
   "id": "c3ca5893",
   "metadata": {},
   "outputs": [
    {
     "ename": "TypeError",
     "evalue": "'tuple' object does not support item assignment",
     "output_type": "error",
     "traceback": [
      "\u001b[0;31m---------------------------------------------------------------------------\u001b[0m",
      "\u001b[0;31mTypeError\u001b[0m                                 Traceback (most recent call last)",
      "\u001b[0;32m/var/folders/fh/hvkm2z9n7631q5058px_kqg80000gr/T/ipykernel_2701/798553507.py\u001b[0m in \u001b[0;36m<module>\u001b[0;34m\u001b[0m\n\u001b[0;32m----> 1\u001b[0;31m \u001b[0mx\u001b[0m\u001b[0;34m[\u001b[0m\u001b[0;36m2\u001b[0m\u001b[0;34m]\u001b[0m \u001b[0;34m=\u001b[0m \u001b[0;34m'horsies'\u001b[0m\u001b[0;34m\u001b[0m\u001b[0;34m\u001b[0m\u001b[0m\n\u001b[0m",
      "\u001b[0;31mTypeError\u001b[0m: 'tuple' object does not support item assignment"
     ]
    }
   ],
   "source": [
    "x[2] = 'horsies' "
   ]
  },
  {
   "cell_type": "code",
   "execution_count": 50,
   "id": "885ab43f",
   "metadata": {},
   "outputs": [
    {
     "name": "stdout",
     "output_type": "stream",
     "text": [
      "Tuples are inmutable!\n"
     ]
    }
   ],
   "source": [
    "try: x[2] = 'horsies' \n",
    "except: \n",
    "    print('Tuples are inmutable!')"
   ]
  },
  {
   "cell_type": "markdown",
   "id": "eea5d34c",
   "metadata": {
    "slideshow": {
     "slide_type": "slide"
    }
   },
   "source": [
    "This is a feature, not shortcoming of <kbd>tuple</kbd>. Since they cannot be changed nor appended, they are more  economical than <kbd>list</kbd>. <kbd>list</kbd> is the mutable counterpart of <kbd>tuple</kbd>. They are instantiated with square brackets. "
   ]
  },
  {
   "cell_type": "code",
   "execution_count": 51,
   "id": "1eb959b8",
   "metadata": {},
   "outputs": [
    {
     "data": {
      "text/plain": [
       "[1, 3.0, 'horse']"
      ]
     },
     "execution_count": 51,
     "metadata": {},
     "output_type": "execute_result"
    }
   ],
   "source": [
    "y = [1, 3.0, \"horse\"]\n",
    "y"
   ]
  },
  {
   "cell_type": "code",
   "execution_count": 52,
   "id": "d987968b",
   "metadata": {},
   "outputs": [
    {
     "data": {
      "text/plain": [
       "list"
      ]
     },
     "execution_count": 52,
     "metadata": {},
     "output_type": "execute_result"
    }
   ],
   "source": [
    "type(y)"
   ]
  },
  {
   "cell_type": "code",
   "execution_count": 53,
   "id": "bc4c9202",
   "metadata": {},
   "outputs": [
    {
     "data": {
      "text/plain": [
       "120"
      ]
     },
     "execution_count": 53,
     "metadata": {},
     "output_type": "execute_result"
    }
   ],
   "source": [
    "sys.getsizeof(y)"
   ]
  },
  {
   "cell_type": "markdown",
   "id": "8d50cb44",
   "metadata": {
    "slideshow": {
     "slide_type": "slide"
    }
   },
   "source": [
    "Lists are mutable, and in particular appendable. Since these actions are allowed, <kbd>list</kbd> objects require  more memory. The return of `sys.getsizeof` does not coincide with the values in the list! Instead, `y` is a variable with a reference to a <kbd>list</kbd> object on the heap, *which itself is a collection of adresses*. This collection of adresses takes $120$ bytes. "
   ]
  },
  {
   "cell_type": "code",
   "execution_count": 54,
   "id": "587f5b6f",
   "metadata": {},
   "outputs": [
    {
     "data": {
      "text/plain": [
       "120"
      ]
     },
     "execution_count": 54,
     "metadata": {},
     "output_type": "execute_result"
    }
   ],
   "source": [
    "sys.getsizeof(y)"
   ]
  },
  {
   "cell_type": "code",
   "execution_count": 55,
   "id": "1a16403f",
   "metadata": {},
   "outputs": [
    {
     "data": {
      "text/plain": [
       "106"
      ]
     },
     "execution_count": 55,
     "metadata": {},
     "output_type": "execute_result"
    }
   ],
   "source": [
    "sum([sys.getsizeof(i) for i in y])"
   ]
  },
  {
   "cell_type": "code",
   "execution_count": 56,
   "id": "41606b13",
   "metadata": {},
   "outputs": [
    {
     "data": {
      "text/plain": [
       "106"
      ]
     },
     "execution_count": 56,
     "metadata": {},
     "output_type": "execute_result"
    }
   ],
   "source": [
    "sys.getsizeof(1) + sys.getsizeof(3.0) + sys.getsizeof(\"horse\")"
   ]
  },
  {
   "cell_type": "markdown",
   "id": "f8e2f67c",
   "metadata": {
    "slideshow": {
     "slide_type": "slide"
    }
   },
   "source": [
    "In contrast to <kbd>tuples</kbd>, they are however mutable. "
   ]
  },
  {
   "cell_type": "code",
   "execution_count": 57,
   "id": "520d1f7e",
   "metadata": {
    "scrolled": true
   },
   "outputs": [
    {
     "data": {
      "text/plain": [
       "[1, 3.0, 'horsies']"
      ]
     },
     "execution_count": 57,
     "metadata": {},
     "output_type": "execute_result"
    }
   ],
   "source": [
    "y[2] = \"horsies\"\n",
    "y"
   ]
  },
  {
   "cell_type": "markdown",
   "id": "27dad8e8",
   "metadata": {
    "slideshow": {
     "slide_type": "slide"
    }
   },
   "source": [
    "### Reference Semantics\n",
    "\n",
    "Lists use *reference semantics*, which means that if you assign a list to two different variables, there's still only one list in memory, and both variables refer to it. As a result, changing the list with one variable changes the list for the other variable."
   ]
  },
  {
   "cell_type": "code",
   "execution_count": 58,
   "id": "fd5a7a4f",
   "metadata": {},
   "outputs": [],
   "source": [
    "x = y"
   ]
  },
  {
   "cell_type": "code",
   "execution_count": 59,
   "id": "e16a9055",
   "metadata": {},
   "outputs": [
    {
     "data": {
      "text/plain": [
       "'0x7fa4201bb9c0'"
      ]
     },
     "execution_count": 59,
     "metadata": {},
     "output_type": "execute_result"
    }
   ],
   "source": [
    "hex(id(x))"
   ]
  },
  {
   "cell_type": "code",
   "execution_count": 60,
   "id": "c45f6df0",
   "metadata": {},
   "outputs": [
    {
     "data": {
      "text/plain": [
       "'0x7fa4201bb9c0'"
      ]
     },
     "execution_count": 60,
     "metadata": {},
     "output_type": "execute_result"
    }
   ],
   "source": [
    "hex(id(y))"
   ]
  },
  {
   "cell_type": "code",
   "execution_count": 61,
   "id": "2e76ec0f",
   "metadata": {},
   "outputs": [
    {
     "data": {
      "text/plain": [
       "['my', 3.0, 'horsies']"
      ]
     },
     "execution_count": 61,
     "metadata": {},
     "output_type": "execute_result"
    }
   ],
   "source": [
    "x[0] = \"my\"\n",
    "y"
   ]
  },
  {
   "cell_type": "markdown",
   "id": "46cf316a",
   "metadata": {
    "slideshow": {
     "slide_type": "slide"
    }
   },
   "source": [
    "A new, non-referenced object can be created by slicing. "
   ]
  },
  {
   "cell_type": "code",
   "execution_count": 62,
   "id": "fd2348db",
   "metadata": {},
   "outputs": [],
   "source": [
    "z = y[:]"
   ]
  },
  {
   "cell_type": "code",
   "execution_count": 64,
   "id": "5868a72b",
   "metadata": {},
   "outputs": [
    {
     "data": {
      "text/plain": [
       "'0x7fa4201bb140'"
      ]
     },
     "execution_count": 64,
     "metadata": {},
     "output_type": "execute_result"
    }
   ],
   "source": [
    "hex(id(z))"
   ]
  },
  {
   "cell_type": "code",
   "execution_count": 73,
   "id": "e3216c71",
   "metadata": {},
   "outputs": [
    {
     "data": {
      "text/plain": [
       "['my', 3.0, 'horsies']"
      ]
     },
     "execution_count": 73,
     "metadata": {},
     "output_type": "execute_result"
    }
   ],
   "source": [
    "z"
   ]
  },
  {
   "cell_type": "code",
   "execution_count": null,
   "id": "aecca19e",
   "metadata": {},
   "outputs": [],
   "source": [
    "z[1] = 3"
   ]
  },
  {
   "cell_type": "code",
   "execution_count": 77,
   "id": "5fde2bb7",
   "metadata": {},
   "outputs": [
    {
     "data": {
      "text/plain": [
       "'0x7fa43802e970'"
      ]
     },
     "execution_count": 77,
     "metadata": {},
     "output_type": "execute_result"
    }
   ],
   "source": [
    "hex(id(z[1]))"
   ]
  },
  {
   "cell_type": "code",
   "execution_count": 78,
   "id": "9e3da1ce",
   "metadata": {},
   "outputs": [
    {
     "data": {
      "text/plain": [
       "'0x7fa4201b8070'"
      ]
     },
     "execution_count": 78,
     "metadata": {},
     "output_type": "execute_result"
    }
   ],
   "source": [
    "hex(id(y[1]))"
   ]
  },
  {
   "cell_type": "markdown",
   "id": "07a3c6e1",
   "metadata": {
    "slideshow": {
     "slide_type": "slide"
    }
   },
   "source": [
    "<img src=\"../images/memory2.png\" alt=\"\" width=\"1000\"/>"
   ]
  },
  {
   "cell_type": "markdown",
   "id": "df2c0132",
   "metadata": {
    "slideshow": {
     "slide_type": "slide"
    }
   },
   "source": [
    "Alternatively, we can use the copy method ([docs](https://docs.python.org/3/library/copy.html)) to the original list. "
   ]
  },
  {
   "cell_type": "code",
   "execution_count": 80,
   "id": "844716e4",
   "metadata": {},
   "outputs": [
    {
     "data": {
      "text/plain": [
       "'0x7fa4201bbd80'"
      ]
     },
     "execution_count": 80,
     "metadata": {},
     "output_type": "execute_result"
    }
   ],
   "source": [
    "z = y.copy()\n",
    "hex(id(z))"
   ]
  },
  {
   "cell_type": "code",
   "execution_count": 81,
   "id": "dd28076b",
   "metadata": {},
   "outputs": [
    {
     "data": {
      "text/plain": [
       "'0x7fa4201bb9c0'"
      ]
     },
     "execution_count": 81,
     "metadata": {},
     "output_type": "execute_result"
    }
   ],
   "source": [
    "hex(id(y))"
   ]
  },
  {
   "cell_type": "markdown",
   "id": "9073e74f",
   "metadata": {
    "slideshow": {
     "slide_type": "slide"
    }
   },
   "source": [
    "While the copies `y` and `z` are *equal*, the are not *identical*, because they point to different objects. "
   ]
  },
  {
   "cell_type": "code",
   "execution_count": 82,
   "id": "fc6807c9",
   "metadata": {},
   "outputs": [
    {
     "data": {
      "text/plain": [
       "True"
      ]
     },
     "execution_count": 82,
     "metadata": {},
     "output_type": "execute_result"
    }
   ],
   "source": [
    "y == z # equal"
   ]
  },
  {
   "cell_type": "code",
   "execution_count": 83,
   "id": "79b45998",
   "metadata": {},
   "outputs": [
    {
     "data": {
      "text/plain": [
       "False"
      ]
     },
     "execution_count": 83,
     "metadata": {},
     "output_type": "execute_result"
    }
   ],
   "source": [
    "y is z # identical"
   ]
  },
  {
   "cell_type": "code",
   "execution_count": 84,
   "id": "2fb72ffb",
   "metadata": {
    "scrolled": true
   },
   "outputs": [
    {
     "data": {
      "text/plain": [
       "True"
      ]
     },
     "execution_count": 84,
     "metadata": {},
     "output_type": "execute_result"
    }
   ],
   "source": [
    "y is x # identical"
   ]
  },
  {
   "cell_type": "code",
   "execution_count": 85,
   "id": "e16033a7",
   "metadata": {
    "slideshow": {
     "slide_type": "slide"
    }
   },
   "outputs": [
    {
     "name": "stdout",
     "output_type": "stream",
     "text": [
      "['my', 2, 'horsies']\n",
      "['my', 3.0, 'horsies']\n"
     ]
    }
   ],
   "source": [
    "y[1] = 2\n",
    "print(y)\n",
    "print(z) "
   ]
  },
  {
   "cell_type": "markdown",
   "id": "8c79976e",
   "metadata": {
    "slideshow": {
     "slide_type": "-"
    }
   },
   "source": [
    "Attention! This is a *shallow copy*, i.e., objects whithin the list will not be be reinstantiated! Above, the command `y[1] = 2` just instantiates a new <kbd>int</kbd> object of value `2` on the heap and replaces the former reference in `y` with the reference to that new object. "
   ]
  },
  {
   "cell_type": "code",
   "execution_count": 86,
   "id": "b1a83353",
   "metadata": {},
   "outputs": [
    {
     "data": {
      "text/plain": [
       "False"
      ]
     },
     "execution_count": 86,
     "metadata": {},
     "output_type": "execute_result"
    }
   ],
   "source": [
    "hex(id(z[1])) == hex(id(y[1]))"
   ]
  },
  {
   "cell_type": "markdown",
   "id": "b30b8b33",
   "metadata": {
    "slideshow": {
     "slide_type": "slide"
    }
   },
   "source": [
    "This becomes tricky if the list references to another list: "
   ]
  },
  {
   "cell_type": "code",
   "execution_count": 87,
   "id": "63e8f00e",
   "metadata": {},
   "outputs": [],
   "source": [
    "a = ['a', 'list']"
   ]
  },
  {
   "cell_type": "code",
   "execution_count": 88,
   "id": "b391b72c",
   "metadata": {},
   "outputs": [],
   "source": [
    "y = [1, 2, 'three', a]"
   ]
  },
  {
   "cell_type": "code",
   "execution_count": 89,
   "id": "0efb7e3b",
   "metadata": {},
   "outputs": [],
   "source": [
    "z = y.copy()"
   ]
  },
  {
   "cell_type": "code",
   "execution_count": 92,
   "id": "f7f1d76b",
   "metadata": {},
   "outputs": [
    {
     "data": {
      "text/plain": [
       "'0x7fa4201c8ec0'"
      ]
     },
     "execution_count": 92,
     "metadata": {},
     "output_type": "execute_result"
    }
   ],
   "source": [
    "hex(id(y))"
   ]
  },
  {
   "cell_type": "code",
   "execution_count": 93,
   "id": "acd4d06a",
   "metadata": {},
   "outputs": [
    {
     "data": {
      "text/plain": [
       "'0x7fa4201caa80'"
      ]
     },
     "execution_count": 93,
     "metadata": {},
     "output_type": "execute_result"
    }
   ],
   "source": [
    "hex(id(z))"
   ]
  },
  {
   "cell_type": "code",
   "execution_count": 96,
   "id": "4a4239a9",
   "metadata": {},
   "outputs": [
    {
     "data": {
      "text/plain": [
       "'0x7fa4201ca600'"
      ]
     },
     "execution_count": 96,
     "metadata": {},
     "output_type": "execute_result"
    }
   ],
   "source": [
    "hex(id(y[3]))"
   ]
  },
  {
   "cell_type": "code",
   "execution_count": 97,
   "id": "258f59f4",
   "metadata": {},
   "outputs": [
    {
     "data": {
      "text/plain": [
       "'0x7fa4201ca600'"
      ]
     },
     "execution_count": 97,
     "metadata": {},
     "output_type": "execute_result"
    }
   ],
   "source": [
    "hex(id(z[3]))"
   ]
  },
  {
   "cell_type": "code",
   "execution_count": 102,
   "id": "6cd6ed1d",
   "metadata": {
    "slideshow": {
     "slide_type": "slide"
    }
   },
   "outputs": [],
   "source": [
    "z[0] = 3"
   ]
  },
  {
   "cell_type": "code",
   "execution_count": 103,
   "id": "d5771a4e",
   "metadata": {},
   "outputs": [
    {
     "data": {
      "text/plain": [
       "[1, 2, 'three', ['a', 'list']]"
      ]
     },
     "execution_count": 103,
     "metadata": {},
     "output_type": "execute_result"
    }
   ],
   "source": [
    "y"
   ]
  },
  {
   "cell_type": "code",
   "execution_count": 104,
   "id": "d8914ea1",
   "metadata": {},
   "outputs": [
    {
     "data": {
      "text/plain": [
       "[3, 2, 'three', ['a', 'list']]"
      ]
     },
     "execution_count": 104,
     "metadata": {},
     "output_type": "execute_result"
    }
   ],
   "source": [
    "z"
   ]
  },
  {
   "cell_type": "code",
   "execution_count": 105,
   "id": "df6cc394",
   "metadata": {},
   "outputs": [],
   "source": [
    "y[3][1] = 'ha'"
   ]
  },
  {
   "cell_type": "code",
   "execution_count": 106,
   "id": "83a9106d",
   "metadata": {},
   "outputs": [
    {
     "name": "stdout",
     "output_type": "stream",
     "text": [
      "[1, 2, 'three', ['a', 'ha']]\n",
      "[3, 2, 'three', ['a', 'ha']]\n"
     ]
    }
   ],
   "source": [
    "print(y)\n",
    "print(z)"
   ]
  },
  {
   "cell_type": "code",
   "execution_count": 107,
   "id": "12e51e7c",
   "metadata": {},
   "outputs": [
    {
     "data": {
      "text/plain": [
       "True"
      ]
     },
     "execution_count": 107,
     "metadata": {},
     "output_type": "execute_result"
    }
   ],
   "source": [
    "hex(id(z[3])) == hex(id(y[3])) "
   ]
  },
  {
   "cell_type": "markdown",
   "id": "5d0c515c",
   "metadata": {
    "slideshow": {
     "slide_type": "slide"
    }
   },
   "source": [
    "Although both lists are real copies, they reference to the same other list `a`, which has not been copied. "
   ]
  },
  {
   "cell_type": "code",
   "execution_count": 108,
   "id": "c568f092",
   "metadata": {},
   "outputs": [
    {
     "data": {
      "text/plain": [
       "True"
      ]
     },
     "execution_count": 108,
     "metadata": {},
     "output_type": "execute_result"
    }
   ],
   "source": [
    "hex(id(z[3])) == hex(id(y[3]))"
   ]
  },
  {
   "cell_type": "markdown",
   "id": "e777ab77",
   "metadata": {
    "slideshow": {
     "slide_type": "slide"
    }
   },
   "source": [
    "This behaviour is irrespecive of the variable `a`. We can remove it from the scope. Since the list object `a` has pointed to still is in scope, it will not be taken by the garbage collector. "
   ]
  },
  {
   "cell_type": "code",
   "execution_count": 109,
   "id": "de95df72",
   "metadata": {},
   "outputs": [
    {
     "data": {
      "text/plain": [
       "'0x7fa4201ca600'"
      ]
     },
     "execution_count": 109,
     "metadata": {},
     "output_type": "execute_result"
    }
   ],
   "source": [
    "hex(id(a))"
   ]
  },
  {
   "cell_type": "code",
   "execution_count": 110,
   "id": "29df1e90",
   "metadata": {},
   "outputs": [],
   "source": [
    "del(a)"
   ]
  },
  {
   "cell_type": "code",
   "execution_count": 111,
   "id": "30e1bb12",
   "metadata": {},
   "outputs": [
    {
     "data": {
      "text/plain": [
       "'0x7fa4201ca600'"
      ]
     },
     "execution_count": 111,
     "metadata": {},
     "output_type": "execute_result"
    }
   ],
   "source": [
    "hex(id(z[3]))"
   ]
  },
  {
   "cell_type": "markdown",
   "id": "99975325",
   "metadata": {
    "slideshow": {
     "slide_type": "slide"
    }
   },
   "source": [
    "We can copy the upper-level lists as well by calling the `copy.deepcopy`. "
   ]
  },
  {
   "cell_type": "code",
   "execution_count": null,
   "id": "8b7325c6",
   "metadata": {},
   "outputs": [],
   "source": [
    "from copy import deepcopy\n",
    "z = deepcopy(y)"
   ]
  },
  {
   "cell_type": "code",
   "execution_count": 113,
   "id": "4a637ee3",
   "metadata": {},
   "outputs": [
    {
     "data": {
      "text/plain": [
       "[1, 2, 'three', ['a', 'ha']]"
      ]
     },
     "execution_count": 113,
     "metadata": {},
     "output_type": "execute_result"
    }
   ],
   "source": [
    "y"
   ]
  },
  {
   "cell_type": "code",
   "execution_count": 120,
   "id": "0d7458a9",
   "metadata": {},
   "outputs": [
    {
     "data": {
      "text/plain": [
       "'0x7fa43802e950'"
      ]
     },
     "execution_count": 120,
     "metadata": {},
     "output_type": "execute_result"
    }
   ],
   "source": [
    "hex(id(z[1]))"
   ]
  },
  {
   "cell_type": "code",
   "execution_count": 119,
   "id": "67ffc3cd",
   "metadata": {},
   "outputs": [
    {
     "data": {
      "text/plain": [
       "'0x7fa43802e950'"
      ]
     },
     "execution_count": 119,
     "metadata": {},
     "output_type": "execute_result"
    }
   ],
   "source": [
    "hex(id(y[1]))"
   ]
  },
  {
   "cell_type": "markdown",
   "id": "8d67efb5",
   "metadata": {
    "slideshow": {
     "slide_type": "slide"
    }
   },
   "source": [
    "While the copies `y` and `z` are *equal*, the are not *identical*, because they point to different objects. "
   ]
  },
  {
   "cell_type": "code",
   "execution_count": 121,
   "id": "211d7adf",
   "metadata": {},
   "outputs": [
    {
     "data": {
      "text/plain": [
       "True"
      ]
     },
     "execution_count": 121,
     "metadata": {},
     "output_type": "execute_result"
    }
   ],
   "source": [
    "y == z # equal"
   ]
  },
  {
   "cell_type": "code",
   "execution_count": 122,
   "id": "9c8e6317",
   "metadata": {
    "scrolled": true
   },
   "outputs": [
    {
     "data": {
      "text/plain": [
       "False"
      ]
     },
     "execution_count": 122,
     "metadata": {},
     "output_type": "execute_result"
    }
   ],
   "source": [
    "y is z # identical"
   ]
  },
  {
   "cell_type": "markdown",
   "id": "7f28af78",
   "metadata": {
    "slideshow": {
     "slide_type": "slide"
    }
   },
   "source": [
    "### Interning \n",
    "\n",
    "The heap memory is memory that can be accessed and reserved by the programmer. Usually, this is tedious and automatically done. To optimize this process, Python uses *interning* to allocate ressources. Since `x` is merely a pointer to the <kbd>int</kbd> type object with value `1`, any other variable can point to the same adress.  "
   ]
  },
  {
   "cell_type": "code",
   "execution_count": 123,
   "id": "d8c0b872",
   "metadata": {},
   "outputs": [],
   "source": [
    "x = 1"
   ]
  },
  {
   "cell_type": "code",
   "execution_count": 124,
   "id": "85894156",
   "metadata": {},
   "outputs": [],
   "source": [
    "y = 1"
   ]
  },
  {
   "cell_type": "code",
   "execution_count": 125,
   "id": "deca088e",
   "metadata": {},
   "outputs": [
    {
     "data": {
      "text/plain": [
       "True"
      ]
     },
     "execution_count": 125,
     "metadata": {},
     "output_type": "execute_result"
    }
   ],
   "source": [
    "hex(id(x)) == hex(id(y))"
   ]
  },
  {
   "cell_type": "markdown",
   "id": "60e6ab00",
   "metadata": {
    "slideshow": {
     "slide_type": "slide"
    }
   },
   "source": [
    "This does not mean that integers use reference semantics! "
   ]
  },
  {
   "cell_type": "code",
   "execution_count": 126,
   "id": "e810c111",
   "metadata": {},
   "outputs": [
    {
     "data": {
      "text/plain": [
       "1"
      ]
     },
     "execution_count": 126,
     "metadata": {},
     "output_type": "execute_result"
    }
   ],
   "source": [
    "y = 2\n",
    "x"
   ]
  },
  {
   "cell_type": "code",
   "execution_count": 127,
   "id": "384f9618",
   "metadata": {},
   "outputs": [
    {
     "data": {
      "text/plain": [
       "False"
      ]
     },
     "execution_count": 127,
     "metadata": {},
     "output_type": "execute_result"
    }
   ],
   "source": [
    "hex(id(x)) == hex(id(y))"
   ]
  },
  {
   "cell_type": "markdown",
   "id": "d000b531",
   "metadata": {
    "slideshow": {
     "slide_type": "slide"
    }
   },
   "source": [
    "Integer internalization is only done from `-5` to `255`. "
   ]
  },
  {
   "cell_type": "code",
   "execution_count": 133,
   "id": "4b2d2e07",
   "metadata": {},
   "outputs": [
    {
     "data": {
      "text/plain": [
       "False"
      ]
     },
     "execution_count": 133,
     "metadata": {},
     "output_type": "execute_result"
    }
   ],
   "source": [
    "x = 4.0\n",
    "y = 4.0\n",
    "hex(id(x)) == hex(id(y))"
   ]
  },
  {
   "cell_type": "markdown",
   "id": "249e2c10",
   "metadata": {},
   "source": [
    "Interning works for several simple types: "
   ]
  },
  {
   "cell_type": "code",
   "execution_count": 134,
   "id": "52d63d22",
   "metadata": {},
   "outputs": [],
   "source": [
    "x = \"Hi\"\n",
    "y = \"Hi\""
   ]
  },
  {
   "cell_type": "code",
   "execution_count": 135,
   "id": "31657686",
   "metadata": {},
   "outputs": [
    {
     "data": {
      "text/plain": [
       "True"
      ]
     },
     "execution_count": 135,
     "metadata": {},
     "output_type": "execute_result"
    }
   ],
   "source": [
    "hex(id(x)) == hex(id(y))"
   ]
  },
  {
   "cell_type": "markdown",
   "id": "c5f7d9f3",
   "metadata": {
    "slideshow": {
     "slide_type": "slide"
    }
   },
   "source": [
    "Interning can be forced using `sys.intern`. "
   ]
  },
  {
   "cell_type": "code",
   "execution_count": 1,
   "id": "19232506",
   "metadata": {
    "scrolled": true,
    "slideshow": {
     "slide_type": "slide"
    }
   },
   "outputs": [
    {
     "data": {
      "text/plain": [
       "False"
      ]
     },
     "execution_count": 1,
     "metadata": {},
     "output_type": "execute_result"
    }
   ],
   "source": [
    "a = \"This is quite a long string.\"\n",
    "b = \"This is quite a long string.\"\n",
    "hex(id(a)) == hex(id(b))"
   ]
  },
  {
   "cell_type": "code",
   "execution_count": 2,
   "id": "83ca4115",
   "metadata": {
    "scrolled": true
   },
   "outputs": [
    {
     "data": {
      "text/plain": [
       "True"
      ]
     },
     "execution_count": 2,
     "metadata": {},
     "output_type": "execute_result"
    }
   ],
   "source": [
    "a = \"This is quite a long string.\"\n",
    "b = a\n",
    "hex(id(a)) == hex(id(b))"
   ]
  },
  {
   "cell_type": "code",
   "execution_count": 3,
   "id": "4b101d46",
   "metadata": {
    "slideshow": {
     "slide_type": "-"
    }
   },
   "outputs": [
    {
     "data": {
      "text/plain": [
       "True"
      ]
     },
     "execution_count": 3,
     "metadata": {},
     "output_type": "execute_result"
    }
   ],
   "source": [
    "import sys\n",
    "a = sys.intern(\"This is quite a long string.\")\n",
    "b = sys.intern(\"This is quite a long string.\")\n",
    "hex(id(a)) == hex(id(b))"
   ]
  },
  {
   "cell_type": "code",
   "execution_count": 4,
   "id": "eb804379",
   "metadata": {
    "slideshow": {
     "slide_type": "-"
    }
   },
   "outputs": [
    {
     "data": {
      "text/plain": [
       "False"
      ]
     },
     "execution_count": 4,
     "metadata": {},
     "output_type": "execute_result"
    }
   ],
   "source": [
    "c = \"This is quite a long string.\"\n",
    "hex(id(a)) == hex(id(c))"
   ]
  },
  {
   "cell_type": "markdown",
   "id": "e919dfb8",
   "metadata": {
    "slideshow": {
     "slide_type": "slide"
    }
   },
   "source": [
    "When using `sys.intern`, the we can internalize an object without it being pointed to on the heap. "
   ]
  },
  {
   "cell_type": "code",
   "execution_count": 5,
   "id": "7d464fef",
   "metadata": {
    "slideshow": {
     "slide_type": "-"
    }
   },
   "outputs": [
    {
     "data": {
      "text/plain": [
       "'0x7f9a70bbaf80'"
      ]
     },
     "execution_count": 5,
     "metadata": {},
     "output_type": "execute_result"
    }
   ],
   "source": [
    "a = sys.intern(\"This is quite a long string.\")\n",
    "hex(id(a))"
   ]
  },
  {
   "cell_type": "code",
   "execution_count": 6,
   "id": "a02134b9",
   "metadata": {
    "scrolled": true,
    "slideshow": {
     "slide_type": "-"
    }
   },
   "outputs": [
    {
     "data": {
      "text/plain": [
       "'0x7f9a70bbaf80'"
      ]
     },
     "execution_count": 6,
     "metadata": {},
     "output_type": "execute_result"
    }
   ],
   "source": [
    "del a\n",
    "b = sys.intern(\"This is quite a long string.\")\n",
    "hex(id(b))"
   ]
  },
  {
   "cell_type": "markdown",
   "id": "e59c6eb2",
   "metadata": {},
   "source": [
    "For reoccuring data, interning allows to use the heap economically. "
   ]
  },
  {
   "cell_type": "markdown",
   "id": "f40076ee",
   "metadata": {
    "slideshow": {
     "slide_type": "slide"
    }
   },
   "source": [
    "### Summary \n",
    "\n",
    "- There is stack and heap memory\n",
    "- All objects are stored on the heap\n",
    "- Lists are versatile, but generally inefficient\n",
    "- Optimize heap usage via interning"
   ]
  }
 ],
 "metadata": {
  "celltoolbar": "Slideshow",
  "kernelspec": {
   "display_name": "Python 3 (ipykernel)",
   "language": "python",
   "name": "python3"
  },
  "language_info": {
   "codemirror_mode": {
    "name": "ipython",
    "version": 3
   },
   "file_extension": ".py",
   "mimetype": "text/x-python",
   "name": "python",
   "nbconvert_exporter": "python",
   "pygments_lexer": "ipython3",
   "version": "3.9.12"
  },
  "rise": {
   "progress": true,
   "scroll": true,
   "theme": "white"
  }
 },
 "nbformat": 4,
 "nbformat_minor": 5
}
